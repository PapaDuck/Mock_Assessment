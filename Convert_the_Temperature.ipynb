{
 "cells": [
  {
   "cell_type": "markdown",
   "id": "95df1e50",
   "metadata": {},
   "source": [
    "# Convert the Temperature\n",
    "\n",
    "You are given a non-negative floating point number rounded to two decimal places celsius, that denotes the temperature in Celsius.\n",
    "\n",
    "You should convert Celsius into Kelvin and Fahrenheit and return it as an array ans = [kelvin, fahrenheit].\n",
    "\n",
    "Return the array ans. Answers within 10-5 of the actual answer will be accepted.\n",
    "\n",
    "Note that:\n",
    "\n",
    "Kelvin = Celsius + 273.15\n",
    "Fahrenheit = Celsius * 1.80 + 32.00"
   ]
  },
  {
   "cell_type": "code",
   "execution_count": 2,
   "id": "592bac53",
   "metadata": {},
   "outputs": [
    {
     "data": {
      "text/plain": [
       "[309.65, 97.7]"
      ]
     },
     "execution_count": 2,
     "metadata": {},
     "output_type": "execute_result"
    }
   ],
   "source": [
    "class Solution(object):\n",
    "    def convertTemperature(self, celsius):\n",
    "        \"\"\"\n",
    "        :type celsius: float\n",
    "        :rtype: List[float]\n",
    "        \"\"\"        \n",
    "        kelvin = celsius +273.15\n",
    "        fahrenheit = (celsius*1.8)+32\n",
    "\n",
    "        return [kelvin, fahrenheit]\n",
    "\n",
    "s = Solution()\n",
    "s.convertTemperature(36.50)"
   ]
  },
  {
   "cell_type": "code",
   "execution_count": null,
   "id": "57e05822",
   "metadata": {},
   "outputs": [],
   "source": []
  }
 ],
 "metadata": {
  "kernelspec": {
   "display_name": "Python 3 (ipykernel)",
   "language": "python",
   "name": "python3"
  },
  "language_info": {
   "codemirror_mode": {
    "name": "ipython",
    "version": 3
   },
   "file_extension": ".py",
   "mimetype": "text/x-python",
   "name": "python",
   "nbconvert_exporter": "python",
   "pygments_lexer": "ipython3",
   "version": "3.9.16"
  }
 },
 "nbformat": 4,
 "nbformat_minor": 5
}
