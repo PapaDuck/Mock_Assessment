{
 "cells": [
  {
   "cell_type": "markdown",
   "id": "519c6089",
   "metadata": {},
   "source": [
    "# Description\n",
    "\n",
    "You receive a lot of measurements from an `IoT-Device` which measures the distance to an object.\n",
    "\n",
    "Your job is to figure out whether this object is generally moving towards or away from the device. \n",
    "\n",
    "### Example input of measurements\n",
    "\n",
    "```\n",
    "191\n",
    "210\n",
    "188\n",
    "189\n",
    "204\n",
    "213\n",
    "215\n",
    "227\n",
    "222\n",
    "221\n",
    "236\n",
    "235\n",
    "```"
   ]
  },
  {
   "cell_type": "markdown",
   "id": "040d80e4",
   "metadata": {},
   "source": [
    "## Task 1\n",
    "\n",
    "How many times does the measurement increase from the previous measurement? "
   ]
  },
  {
   "cell_type": "code",
   "execution_count": 1,
   "id": "12caffca",
   "metadata": {},
   "outputs": [],
   "source": [
    "import csv\n",
    "\n",
    "def readcsv(csvfile):\n",
    "    csvdata = []\n",
    "    with open(csvfile, newline='') as csvfile:\n",
    "        reader = csv.reader(csvfile, delimiter=',', quotechar='\"')\n",
    "        for row in reader:\n",
    "            csvdata.append(int(row[0]))\n",
    "    return csvdata\n",
    "\n",
    "csvdata = readcsv('./data/iot_measurement_data.csv')\n",
    "# csvdata = [1,1,3,2,5,6,4,5,4,2,2,3,3,5,5,6,11,12,33]"
   ]
  },
  {
   "cell_type": "code",
   "execution_count": 2,
   "id": "74bd526a",
   "metadata": {},
   "outputs": [
    {
     "name": "stdout",
     "output_type": "stream",
     "text": [
      "Task 1: 655\n"
     ]
    }
   ],
   "source": [
    "times = 0\n",
    "for i in range(1, len(csvdata)):\n",
    "    if csvdata[i] > csvdata[i-1]:\n",
    "        times += 1\n",
    "\n",
    "print(f'Task 1: {times}')"
   ]
  },
  {
   "cell_type": "markdown",
   "id": "49149fda",
   "metadata": {},
   "source": [
    "## Task 2\n",
    "\n",
    "You realize that you shouldn't compare every single measurement as there is a lot of noise in the data. \n",
    "\n",
    "Instead, consider sums of a three-measurement sliding window. Start by comparing the first (199, 200, 208) and second (200, 208, 210) three-measurement windows. \n",
    "\n",
    "**How many times does the sum of measurements in this sliding window increases from the previous sum?**\n",
    "\n",
    "Stop when there aren't enough measurements left to create a new three-measurement sum."
   ]
  },
  {
   "cell_type": "code",
   "execution_count": 3,
   "id": "b98f5844",
   "metadata": {},
   "outputs": [
    {
     "name": "stdout",
     "output_type": "stream",
     "text": [
      "Task 2: 220\n"
     ]
    }
   ],
   "source": [
    "times = 0\n",
    "counter = 0\n",
    "summe = 0\n",
    "tripples = []\n",
    "for i in range(1, len(csvdata)):\n",
    "    if i%3==0:\n",
    "        # nr 3\n",
    "        tripples.append(summe)\n",
    "        summe = 0\n",
    "    else:\n",
    "        summe += csvdata[i]\n",
    "\n",
    "times = 0\n",
    "for i in range(1, len(tripples)):\n",
    "    if tripples[i] > tripples[i-1]:\n",
    "        times += 1\n",
    "\n",
    "print(f'Task 2: {times}')"
   ]
  },
  {
   "cell_type": "markdown",
   "id": "0c6e75a2",
   "metadata": {},
   "source": [
    "# Task 3\n",
    "\n",
    "You want to check whether you receive valid data. You know that its physically impossible for the the object in front of the `IoT-device` to move more than 100 units in the time between two measurements. \n",
    "\n",
    "**What is the maximum difference between two subsequent measurements?**\n",
    "\n",
    "**Bonus: What can you deduce from this answer? What could be next steps for your project?**\n",
    "\n",
    "Two measurements mean two individual measurements, *not* the window from the previous task.\n"
   ]
  },
  {
   "cell_type": "code",
   "execution_count": 4,
   "id": "94f74fc4",
   "metadata": {},
   "outputs": [
    {
     "name": "stdout",
     "output_type": "stream",
     "text": [
      "Task 3: 692\n"
     ]
    }
   ],
   "source": [
    "times = 0\n",
    "maxdiff = 0\n",
    "for i in range(1, len(csvdata)):\n",
    "    diff = csvdata[i]-csvdata[i-1]\n",
    "    if diff<0:\n",
    "        diff = diff*-1\n",
    "    if diff>maxdiff:\n",
    "        maxdiff = diff\n",
    "\n",
    "print(f'Task 3: {maxdiff}')"
   ]
  },
  {
   "cell_type": "markdown",
   "id": "2ee62f3e",
   "metadata": {},
   "source": [
    "### Bonus: What can you deduce from this answer? What could be next steps for your project?\n",
    "\n",
    "Wie in Aufgabe 2 bereits beschrieben gibt es in dem `IoT-Device` ein Rauschen, falls nur einzelnde Ausreiser den Schwellenwert von 100 Einheiten überschreiten würde ich es vorerst beobachten und je nach aufgabe des Geräts schauen ob dies nicht sogar belanglos ist.\n",
    "\n",
    "Bei regelmäßigen Überschreitungen des Werts gibt es verschiedene Lösungsansätze:\n",
    "\n",
    "#### Data-Method\n",
    "- Außreiser entfernen\n",
    "- Glätten der Daten über:\n",
    " - Gleitender Mittelwert\n",
    " - Exponentielle Glättung\n",
    "\n",
    "#### Externe Methoden\n",
    "- Die Messung mit einem zweiten Gerät unterstützen\n",
    "- Das Gerät kalibrieren lassen"
   ]
  },
  {
   "cell_type": "markdown",
   "id": "941e3c78",
   "metadata": {},
   "source": [
    "# OLD\n",
    "\n",
    "---"
   ]
  },
  {
   "cell_type": "code",
   "execution_count": 7,
   "id": "c1e5bd32",
   "metadata": {},
   "outputs": [
    {
     "name": "stdout",
     "output_type": "stream",
     "text": [
      "687-\n",
      "605-\n",
      "1301-\n",
      "1299-\n",
      "5052-\n",
      "5682-\n",
      "6053-\n",
      "7091-\n",
      "7088-\n",
      "5082-\n",
      "5057-\n",
      "5085-\n",
      "5227-\n",
      "5336-\n",
      "5397-\n",
      "5453-\n",
      "5657-\n",
      "5769-\n",
      "5764-\n",
      "5727-\n",
      "5905-\n",
      "5953-\n",
      "5965-\n",
      "6047-\n",
      "6119-\n",
      "6033-\n",
      "6167-\n",
      "6249-\n",
      "6356-\n",
      "6433-\n",
      "6477-\n",
      "6639-\n",
      "6798-\n",
      "6798-\n",
      "6886-\n",
      "6968-\n",
      "7080-\n",
      "7106-\n",
      "7082-\n",
      "7086-\n",
      "9246-\n",
      "9372-\n",
      "9363-\n",
      "Times: 152\n"
     ]
    }
   ],
   "source": [
    "import csv\n",
    "\n",
    "# How many times does the measurement increase\n",
    "# from the previous measurement?\n",
    "#\n",
    "counter = 0\n",
    "times = 0\n",
    "pre_distance = 0\n",
    "pre = None\n",
    "summe = 0\n",
    "\n",
    "with open(\"./data/iot_measurement_data.csv\", 'r') as file:\n",
    "    csvread = csv.reader(file)\n",
    "    #csvread = [[\"1\"], [\"1\"], [\"1\"], [\"2\"], [\"3\"], [\"4\"], [\"0\"], [\"0\"]]\n",
    "    for row in csvread:\n",
    "        counter += 1\n",
    "        distance = int(row[0])\n",
    "\n",
    "        if counter < 4:\n",
    "            summe += distance\n",
    "            # print(f\"{summe}\")\n",
    "            if counter == 3:\n",
    "                #print(\"Got here.\")\n",
    "                if summe > pre_distance:\n",
    "                    # print(f'{summe=}')\n",
    "                    # print(f'{pre_distance=}')\n",
    "                    times += 1\n",
    "                    pre_distance = summe\n",
    "                    # print(f'{times=}')\n",
    "                else:\n",
    "                    print(f'{summe}-')\n",
    "        else:\n",
    "            counter = 0\n",
    "            summe = 0\n",
    "\n",
    "print(f\"Times: {times}\")\n"
   ]
  },
  {
   "cell_type": "code",
   "execution_count": null,
   "id": "86d4ca24",
   "metadata": {},
   "outputs": [],
   "source": []
  }
 ],
 "metadata": {
  "kernelspec": {
   "display_name": "Python 3 (ipykernel)",
   "language": "python",
   "name": "python3"
  },
  "language_info": {
   "codemirror_mode": {
    "name": "ipython",
    "version": 3
   },
   "file_extension": ".py",
   "mimetype": "text/x-python",
   "name": "python",
   "nbconvert_exporter": "python",
   "pygments_lexer": "ipython3",
   "version": "3.9.16"
  }
 },
 "nbformat": 4,
 "nbformat_minor": 5
}
