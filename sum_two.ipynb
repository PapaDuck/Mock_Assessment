{
 "cells": [
  {
   "cell_type": "markdown",
   "id": "d83a9527",
   "metadata": {},
   "source": [
    "# Two Sum\n",
    "\n",
    "Given an array of integers nums and an integer target, return indices of the two numbers such that they add up to target.\n",
    "\n",
    "You may assume that each input would have exactly one solution, and you may not use the same element twice.\n",
    "\n",
    "You can return the answer in any order.\n",
    "\n",
    " \n",
    "\n",
    "Example 1:\n",
    "\n",
    "Input: nums = [2,7,11,15], target = 9\n",
    "Output: [0,1]\n",
    "Explanation: Because nums[0] + nums[1] == 9, we return [0, 1].\n",
    "Example 2:\n",
    "\n",
    "Input: nums = [3,2,4], target = 6\n",
    "Output: [1,2]\n",
    "Example 3:\n",
    "\n",
    "Input: nums = [3,3], target = 6\n",
    "Output: [0,1]\n",
    "\n",
    "[https://leetcode.com/problems/two-sum/description/]"
   ]
  },
  {
   "cell_type": "code",
   "execution_count": 1,
   "id": "63fcc4a1",
   "metadata": {},
   "outputs": [
    {
     "data": {
      "text/plain": [
       "[2, 1]"
      ]
     },
     "execution_count": 1,
     "metadata": {},
     "output_type": "execute_result"
    }
   ],
   "source": [
    "class Solution(object):\n",
    "    def twoSum(self, nums, target):\n",
    "        \"\"\"\n",
    "        :type nums: List[int]\n",
    "        :type target: int\n",
    "        :rtype: List[int]\n",
    "        \"\"\"\n",
    "        index1 = 0\n",
    "        index2 = 0\n",
    "        for num1 in nums:\n",
    "            for num2 in nums:\n",
    "                if index1 != index2:\n",
    "                    if num1+num2 == target:\n",
    "                        t1 = index1\n",
    "                        t2 = index2\n",
    "                        pass\n",
    "            \n",
    "                index2 += 1\n",
    "            index2 = 0\n",
    "            index1 += 1\n",
    "        return [t1, t2]\n",
    "\n",
    "s = Solution()\n",
    "s.twoSum([3,2,4],6)"
   ]
  },
  {
   "cell_type": "code",
   "execution_count": null,
   "id": "34e34c38",
   "metadata": {},
   "outputs": [],
   "source": []
  }
 ],
 "metadata": {
  "kernelspec": {
   "display_name": "Python 3 (ipykernel)",
   "language": "python",
   "name": "python3"
  },
  "language_info": {
   "codemirror_mode": {
    "name": "ipython",
    "version": 3
   },
   "file_extension": ".py",
   "mimetype": "text/x-python",
   "name": "python",
   "nbconvert_exporter": "python",
   "pygments_lexer": "ipython3",
   "version": "3.9.16"
  }
 },
 "nbformat": 4,
 "nbformat_minor": 5
}
