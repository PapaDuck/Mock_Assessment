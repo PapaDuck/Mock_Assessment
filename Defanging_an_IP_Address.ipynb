{
 "cells": [
  {
   "cell_type": "markdown",
   "id": "95df1e50",
   "metadata": {},
   "source": [
    "# Defanging an IP Address\n",
    "\n",
    "Given a valid (IPv4) IP address, return a defanged version of that IP address.\n",
    "\n",
    "A defanged IP address replaces every period \".\" with \"[.]\"."
   ]
  },
  {
   "cell_type": "code",
   "execution_count": 2,
   "id": "592bac53",
   "metadata": {},
   "outputs": [
    {
     "data": {
      "text/plain": [
       "'255[.]100[.]50[.]0'"
      ]
     },
     "execution_count": 2,
     "metadata": {},
     "output_type": "execute_result"
    }
   ],
   "source": [
    "class Solution(object):\n",
    "    def defangIPaddr(self, address):\n",
    "        \"\"\"\n",
    "        :type address: str\n",
    "        :rtype: str\n",
    "        \"\"\"\n",
    "        address = address.replace('.','[.]')\n",
    "        return address\n",
    "    \n",
    "s = Solution()\n",
    "s.defangIPaddr('255.100.50.0')"
   ]
  },
  {
   "cell_type": "code",
   "execution_count": null,
   "id": "57e05822",
   "metadata": {},
   "outputs": [],
   "source": []
  }
 ],
 "metadata": {
  "kernelspec": {
   "display_name": "Python 3 (ipykernel)",
   "language": "python",
   "name": "python3"
  },
  "language_info": {
   "codemirror_mode": {
    "name": "ipython",
    "version": 3
   },
   "file_extension": ".py",
   "mimetype": "text/x-python",
   "name": "python",
   "nbconvert_exporter": "python",
   "pygments_lexer": "ipython3",
   "version": "3.9.16"
  }
 },
 "nbformat": 4,
 "nbformat_minor": 5
}
